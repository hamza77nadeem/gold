{
 "cells": [
  {
   "cell_type": "code",
   "execution_count": null,
   "id": "1d538ddd-81ba-44c4-b256-49ae4cf17ce9",
   "metadata": {},
   "outputs": [],
   "source": []
  }
 ],
 "metadata": {
  "kernelspec": {
   "display_name": "",
   "name": ""
  },
  "language_info": {
   "name": ""
  }
 },
 "nbformat": 4,
 "nbformat_minor": 5
}
