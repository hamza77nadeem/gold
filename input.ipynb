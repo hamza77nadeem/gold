{
 "cells": [
  {
   "cell_type": "code",
   "execution_count": 10,
   "id": "f68693e9-4ee3-42d3-a187-b6866cf06069",
   "metadata": {},
   "outputs": [
    {
     "data": {
      "application/vnd.jupyter.widget-view+json": {
       "model_id": "224703fedd60475580bfc6d93140fa82",
       "version_major": 2,
       "version_minor": 0
      },
      "text/plain": [
       "Dropdown(description='Period:', index=1, options=('1d', '5d', '1mo', '3mo', '6mo', '1y', '2y', '5y', '10y', 'y…"
      ]
     },
     "metadata": {},
     "output_type": "display_data"
    },
    {
     "data": {
      "application/vnd.jupyter.widget-view+json": {
       "model_id": "6de3871833824088b61bae44d5eb8ef7",
       "version_major": 2,
       "version_minor": 0
      },
      "text/plain": [
       "Dropdown(description='Interval:', index=6, options=('1m', '5m', '15m', '30m', '60m', '90m', '1h', '1d', '5d', …"
      ]
     },
     "metadata": {},
     "output_type": "display_data"
    },
    {
     "data": {
      "application/vnd.jupyter.widget-view+json": {
       "model_id": "c7955020084341c9b46fca7064280624",
       "version_major": 2,
       "version_minor": 0
      },
      "text/plain": [
       "interactive(children=(Dropdown(description='Period:', index=1, options=('1d', '5d', '1mo', '3mo', '6mo', '1y',…"
      ]
     },
     "metadata": {},
     "output_type": "display_data"
    },
    {
     "data": {
      "text/plain": [
       "<function __main__.fetch_and_display_data(period, interval)>"
      ]
     },
     "execution_count": 10,
     "metadata": {},
     "output_type": "execute_result"
    }
   ],
   "source": [
    "import yfinance as yf\n",
    "import pandas as pd\n",
    "import matplotlib.pyplot as plt\n",
    "import numpy as np\n",
    "import ipywidgets as widgets\n",
    "from IPython.display import display\n",
    "\n",
    "# Define the options for period and interval\n",
    "period_options = ['1d', '5d', '1mo', '3mo', '6mo', '1y', '2y', '5y', '10y', 'ytd', 'max']\n",
    "interval_options = ['1m', '5m', '15m', '30m', '60m', '90m', '1h', '1d', '5d', '1wk', '1mo', '3mo']\n",
    "\n",
    "# Create dropdown widgets\n",
    "period_widget = widgets.Dropdown(\n",
    "    options=period_options,\n",
    "    value='5d',\n",
    "    description='Period:',\n",
    ")\n",
    "\n",
    "interval_widget = widgets.Dropdown(\n",
    "    options=interval_options,\n",
    "    value='1h',\n",
    "    description='Interval:',\n",
    ")\n",
    "\n",
    "# Display widgets\n",
    "display(period_widget, interval_widget)\n",
    "\n",
    "def fetch_and_display_data(period, interval):\n",
    "    gold = yf.Ticker(\"GC=F\")\n",
    "    data = gold.history(period=period, interval=interval)\n",
    "    \n",
    "    # Calculate OBV\n",
    "    data['OBV'] = (np.sign(data['Close'].diff()) * data['Volume']).fillna(0).cumsum()\n",
    "    \n",
    "    # Determine colors for line segments\n",
    "    colors = ['green' if data['Close'].iloc[i] > data['Close'].iloc[i-1] else 'red' for i in range(1, len(data))]\n",
    "    colors.insert(0, 'green')  # First line segment\n",
    "    \n",
    "    # Plot price data with colored line segments\n",
    "    plt.figure(figsize=(14, 10))\n",
    "    \n",
    "    # Plot the closing prices with colors\n",
    "    plt.subplot(3, 1, 1)\n",
    "    for i in range(1, len(data)):\n",
    "        plt.plot(data.index[i-1:i+1], data['Close'].iloc[i-1:i+1], color=colors[i-1])\n",
    "    plt.title('Gold Price and Volume Analysis')\n",
    "    plt.ylabel('Price (USD)')\n",
    "    plt.legend(['Close Price'], loc='upper left')\n",
    "    \n",
    "    # Plot the volume data with colored line segments\n",
    "    plt.subplot(3, 1, 2)\n",
    "    for i in range(1, len(data)):\n",
    "        plt.plot(data.index[i-1:i+1], data['Volume'].iloc[i-1:i+1], color=colors[i-1])\n",
    "    plt.ylabel('Volume')\n",
    "    plt.legend(['Volume'], loc='upper left')\n",
    "    \n",
    "    # Plot OBV\n",
    "    plt.subplot(3, 1, 3)\n",
    "    plt.plot(data.index, data['OBV'], label='On-Balance Volume (OBV)', color='purple')\n",
    "    plt.ylabel('OBV')\n",
    "    plt.legend(loc='upper left')\n",
    "    plt.xlabel('Time')\n",
    "    \n",
    "    plt.show()\n",
    "    \n",
    "    # Show the latest gold price\n",
    "    latest_price = data['Close'].iloc[-1]\n",
    "    print(f\"Latest gold price: ${latest_price:.2f}\")\n",
    "    \n",
    "    # Analyzing the results\n",
    "    # Summary of buying vs. selling pressure\n",
    "    if data['OBV'].iloc[-1] > data['OBV'].iloc[0]:\n",
    "        print(\"Overall, there was more buying demand.\")\n",
    "    else:\n",
    "        print(\"Overall, there was more selling demand.\")\n",
    "    \n",
    "    # Current demand analysis\n",
    "    if data['Close'].iloc[-1] > data['Close'].iloc[-2]:\n",
    "        current_demand = \"Buying\"\n",
    "        print(\"Currently, there is more buying demand.\")\n",
    "    else:\n",
    "        current_demand = \"Selling\"\n",
    "        print(\"Currently, there is more selling demand.\")\n",
    "\n",
    "# Create an interactive output\n",
    "widgets.interact(fetch_and_display_data, period=period_widget, interval=interval_widget)\n"
   ]
  },
  {
   "cell_type": "code",
   "execution_count": 24,
   "id": "23ba2712-444c-45f4-99da-c28771e9bb71",
   "metadata": {},
   "outputs": [
    {
     "data": {
      "application/vnd.jupyter.widget-view+json": {
       "model_id": "7809532ab3914caa96e6d7383632424c",
       "version_major": 2,
       "version_minor": 0
      },
      "text/plain": [
       "Dropdown(description='Period:', index=1, options=('1d', '5d', '1mo', '3mo', '6mo', '1y', '2y', '5y', '10y', 'y…"
      ]
     },
     "metadata": {},
     "output_type": "display_data"
    },
    {
     "data": {
      "application/vnd.jupyter.widget-view+json": {
       "model_id": "d3fcee19df9a444d9dde4d1e145ca6d2",
       "version_major": 2,
       "version_minor": 0
      },
      "text/plain": [
       "Dropdown(description='Interval:', index=6, options=('1m', '5m', '15m', '30m', '60m', '90m', '1h', '1d', '5d', …"
      ]
     },
     "metadata": {},
     "output_type": "display_data"
    },
    {
     "data": {
      "application/vnd.jupyter.widget-view+json": {
       "model_id": "e92395cf2f8f422db463087e994a7deb",
       "version_major": 2,
       "version_minor": 0
      },
      "text/plain": [
       "interactive(children=(Dropdown(description='Period:', index=1, options=('1d', '5d', '1mo', '3mo', '6mo', '1y',…"
      ]
     },
     "metadata": {},
     "output_type": "display_data"
    },
    {
     "data": {
      "text/plain": [
       "<function __main__.fetch_and_forecast(period, interval)>"
      ]
     },
     "execution_count": 24,
     "metadata": {},
     "output_type": "execute_result"
    }
   ],
   "source": [
    "import yfinance as yf\n",
    "import pandas as pd\n",
    "import numpy as np\n",
    "from statsmodels.tsa.arima.model import ARIMA\n",
    "import matplotlib.pyplot as plt\n",
    "import ipywidgets as widgets\n",
    "from IPython.display import display\n",
    "\n",
    "# Define the options for period and interval\n",
    "period_options = ['1d', '5d', '1mo', '3mo', '6mo', '1y', '2y', '5y', '10y', 'ytd', 'max']\n",
    "interval_options = ['1m', '5m', '15m', '30m', '60m', '90m', '1h', '1d', '5d', '1wk', '1mo', '3mo']\n",
    "\n",
    "# Create dropdown widgets\n",
    "period_widget = widgets.Dropdown(\n",
    "    options=period_options,\n",
    "    value='5d',\n",
    "    description='Period:',\n",
    ")\n",
    "\n",
    "interval_widget = widgets.Dropdown(\n",
    "    options=interval_options,\n",
    "    value='1h',\n",
    "    description='Interval:',\n",
    ")\n",
    "\n",
    "# Display widgets\n",
    "display(period_widget, interval_widget)\n",
    "\n",
    "def fetch_and_forecast(period, interval):\n",
    "    # Fetch data based on user input\n",
    "    gold = yf.Ticker(\"GC=F\")\n",
    "    data = gold.history(period=period, interval=interval)\n",
    "    \n",
    "    # Ensure data is sorted by date\n",
    "    data = data.sort_index()\n",
    "    \n",
    "    # Resample data to ensure regular hourly frequency if needed\n",
    "    if interval != '1d':  # Daily interval doesn't need resampling\n",
    "        data = data.resample('h').ffill()  # Forward fill to handle missing data\n",
    "    \n",
    "    # Create features\n",
    "    data['Return'] = data['Close'].pct_change()\n",
    "    data['MA_10'] = data['Close'].rolling(window=10).mean()\n",
    "    data['MA_50'] = data['Close'].rolling(window=50).mean()\n",
    "    data = data.dropna()\n",
    "\n",
    "    # Define and fit the ARIMA model\n",
    "    model = ARIMA(data['Close'], order=(5, 1, 0))  # (p,d,q) parameters\n",
    "    model_fit = model.fit()\n",
    "\n",
    "    # Forecast the next hour's price\n",
    "    forecast = model_fit.get_forecast(steps=1)\n",
    "    forecast_mean = forecast.predicted_mean\n",
    "    forecast_conf_int = forecast.conf_int()\n",
    "\n",
    "    # Print predicted price\n",
    "    predicted_price = forecast_mean.iloc[0]\n",
    "    print(f'Predicted price: {predicted_price}')\n",
    "\n",
    "    # Show the latest gold price\n",
    "    latest_price = data['Close'].iloc[-1]\n",
    "    print(f\"Latest gold price: ${latest_price:.2f}\")\n",
    "\n",
    "    # Plot historical data and forecast\n",
    "    plt.figure(figsize=(12, 6))\n",
    "    plt.plot(data.index, data['Close'], label='Historical Prices', color='blue')\n",
    "    plt.axvline(x=data.index[-1], color='gray', linestyle='--', label='Forecast Start')\n",
    "\n",
    "    # Adding forecast point\n",
    "    forecast_time = data.index[-1] + pd.DateOffset(hours=1)\n",
    "    plt.scatter(forecast_time, predicted_price, color='red', label='Forecasted Price', zorder=5)\n",
    "\n",
    "    plt.xlabel('Date')\n",
    "    plt.ylabel('Price (USD)')\n",
    "    plt.title('Gold Price Forecast')\n",
    "    plt.legend()\n",
    "    plt.show()\n",
    "\n",
    "# Create an interactive output\n",
    "widgets.interact(fetch_and_forecast, period=period_widget, interval=interval_widget)\n"
   ]
  },
  {
   "cell_type": "code",
   "execution_count": 8,
   "id": "2db8064d-0f00-42d9-a246-c08600c8f576",
   "metadata": {},
   "outputs": [
    {
     "data": {
      "application/vnd.jupyter.widget-view+json": {
       "model_id": "e7ce2b8c2db64d31b6eee4375072148c",
       "version_major": 2,
       "version_minor": 0
      },
      "text/plain": [
       "Dropdown(description='Period:', index=1, options=('1d', '5d', '1mo', '3mo', '6mo', '1y', '2y', '5y', '10y', 'y…"
      ]
     },
     "metadata": {},
     "output_type": "display_data"
    },
    {
     "data": {
      "application/vnd.jupyter.widget-view+json": {
       "model_id": "5aa2dc7b32114a349958385e39ed6ed6",
       "version_major": 2,
       "version_minor": 0
      },
      "text/plain": [
       "Dropdown(description='Interval:', index=6, options=('1m', '5m', '15m', '30m', '60m', '90m', '1h', '1d', '5d', …"
      ]
     },
     "metadata": {},
     "output_type": "display_data"
    },
    {
     "data": {
      "application/vnd.jupyter.widget-view+json": {
       "model_id": "9dbe3eb0c80743b19245565eb8a1f86a",
       "version_major": 2,
       "version_minor": 0
      },
      "text/plain": [
       "Button(description='Refresh Plot', style=ButtonStyle())"
      ]
     },
     "metadata": {},
     "output_type": "display_data"
    },
    {
     "data": {
      "application/vnd.plotly.v1+json": {
       "config": {
        "plotlyServerURL": "https://plot.ly"
       },
       "data": [
        {
         "mode": "lines",
         "name": "Historical Prices",
         "type": "scatter",
         "x": [
          "2024-07-19T01:00:00-04:00",
          "2024-07-19T02:00:00-04:00",
          "2024-07-19T03:00:00-04:00",
          "2024-07-19T04:00:00-04:00",
          "2024-07-19T05:00:00-04:00",
          "2024-07-19T06:00:00-04:00",
          "2024-07-19T07:00:00-04:00",
          "2024-07-19T08:00:00-04:00",
          "2024-07-19T09:00:00-04:00",
          "2024-07-19T10:00:00-04:00",
          "2024-07-19T11:00:00-04:00",
          "2024-07-19T12:00:00-04:00",
          "2024-07-19T13:00:00-04:00",
          "2024-07-19T14:00:00-04:00",
          "2024-07-19T15:00:00-04:00",
          "2024-07-19T16:00:00-04:00",
          "2024-07-19T17:00:00-04:00",
          "2024-07-19T18:00:00-04:00",
          "2024-07-19T19:00:00-04:00",
          "2024-07-19T20:00:00-04:00",
          "2024-07-19T21:00:00-04:00",
          "2024-07-19T22:00:00-04:00",
          "2024-07-19T23:00:00-04:00",
          "2024-07-20T00:00:00-04:00",
          "2024-07-20T01:00:00-04:00",
          "2024-07-20T02:00:00-04:00",
          "2024-07-20T03:00:00-04:00",
          "2024-07-20T04:00:00-04:00",
          "2024-07-20T05:00:00-04:00",
          "2024-07-20T06:00:00-04:00",
          "2024-07-20T07:00:00-04:00",
          "2024-07-20T08:00:00-04:00",
          "2024-07-20T09:00:00-04:00",
          "2024-07-20T10:00:00-04:00",
          "2024-07-20T11:00:00-04:00",
          "2024-07-20T12:00:00-04:00",
          "2024-07-20T13:00:00-04:00",
          "2024-07-20T14:00:00-04:00",
          "2024-07-20T15:00:00-04:00",
          "2024-07-20T16:00:00-04:00",
          "2024-07-20T17:00:00-04:00",
          "2024-07-20T18:00:00-04:00",
          "2024-07-20T19:00:00-04:00",
          "2024-07-20T20:00:00-04:00",
          "2024-07-20T21:00:00-04:00",
          "2024-07-20T22:00:00-04:00",
          "2024-07-20T23:00:00-04:00",
          "2024-07-21T00:00:00-04:00",
          "2024-07-21T01:00:00-04:00",
          "2024-07-21T02:00:00-04:00",
          "2024-07-21T03:00:00-04:00",
          "2024-07-21T04:00:00-04:00",
          "2024-07-21T05:00:00-04:00",
          "2024-07-21T06:00:00-04:00",
          "2024-07-21T07:00:00-04:00",
          "2024-07-21T08:00:00-04:00",
          "2024-07-21T09:00:00-04:00",
          "2024-07-21T10:00:00-04:00",
          "2024-07-21T11:00:00-04:00",
          "2024-07-21T12:00:00-04:00",
          "2024-07-21T13:00:00-04:00",
          "2024-07-21T14:00:00-04:00",
          "2024-07-21T15:00:00-04:00",
          "2024-07-21T16:00:00-04:00",
          "2024-07-21T17:00:00-04:00",
          "2024-07-21T18:00:00-04:00",
          "2024-07-21T19:00:00-04:00",
          "2024-07-21T20:00:00-04:00",
          "2024-07-21T21:00:00-04:00",
          "2024-07-21T22:00:00-04:00",
          "2024-07-21T23:00:00-04:00",
          "2024-07-22T00:00:00-04:00",
          "2024-07-22T01:00:00-04:00",
          "2024-07-22T02:00:00-04:00",
          "2024-07-22T03:00:00-04:00",
          "2024-07-22T04:00:00-04:00",
          "2024-07-22T05:00:00-04:00",
          "2024-07-22T06:00:00-04:00",
          "2024-07-22T07:00:00-04:00",
          "2024-07-22T08:00:00-04:00",
          "2024-07-22T09:00:00-04:00",
          "2024-07-22T10:00:00-04:00",
          "2024-07-22T11:00:00-04:00",
          "2024-07-22T12:00:00-04:00",
          "2024-07-22T13:00:00-04:00"
         ],
         "y": [
          2425.800048828125,
          2422.300048828125,
          2420.39990234375,
          2422.60009765625,
          2418.199951171875,
          2414.60009765625,
          2412.10009765625,
          2405.800048828125,
          2405.800048828125,
          2399.89990234375,
          2407.300048828125,
          2401.5,
          2400.800048828125,
          2400.300048828125,
          2400.699951171875,
          2402.800048828125,
          2402.800048828125,
          2402.800048828125,
          2402.800048828125,
          2402.800048828125,
          2402.800048828125,
          2402.800048828125,
          2402.800048828125,
          2402.800048828125,
          2402.800048828125,
          2402.800048828125,
          2402.800048828125,
          2402.800048828125,
          2402.800048828125,
          2402.800048828125,
          2402.800048828125,
          2402.800048828125,
          2402.800048828125,
          2402.800048828125,
          2402.800048828125,
          2402.800048828125,
          2402.800048828125,
          2402.800048828125,
          2402.800048828125,
          2402.800048828125,
          2402.800048828125,
          2402.800048828125,
          2402.800048828125,
          2402.800048828125,
          2402.800048828125,
          2402.800048828125,
          2402.800048828125,
          2402.800048828125,
          2402.800048828125,
          2402.800048828125,
          2402.800048828125,
          2402.800048828125,
          2402.800048828125,
          2402.800048828125,
          2402.800048828125,
          2402.800048828125,
          2402.800048828125,
          2402.800048828125,
          2402.800048828125,
          2402.800048828125,
          2402.800048828125,
          2402.800048828125,
          2402.800048828125,
          2402.800048828125,
          2402.800048828125,
          2412.800048828125,
          2413.300048828125,
          2409.800048828125,
          2408.5,
          2408.39990234375,
          2408.60009765625,
          2407.199951171875,
          2404.5,
          2403.89990234375,
          2404,
          2402.39990234375,
          2406.10009765625,
          2408.39990234375,
          2399.60009765625,
          2395.800048828125,
          2394.10009765625,
          2388.60009765625,
          2387.60009765625,
          2394.300048828125,
          2395
         ]
        },
        {
         "marker": {
          "color": "red",
          "size": 10
         },
         "mode": "markers",
         "name": "Forecasted Price",
         "type": "scatter",
         "x": [
          "2024-07-22T14:00:00-04:00"
         ],
         "y": [
          2395
         ]
        },
        {
         "marker": {
          "color": "green",
          "line": {
           "color": "black",
           "width": 2
          },
          "size": 10
         },
         "mode": "markers",
         "name": "Latest Price",
         "type": "scatter",
         "visible": true,
         "x": [
          "2024-07-22T13:00:00-04:00"
         ],
         "y": [
          2395
         ]
        }
       ],
       "layout": {
        "autosize": true,
        "template": {
         "data": {
          "bar": [
           {
            "error_x": {
             "color": "#2a3f5f"
            },
            "error_y": {
             "color": "#2a3f5f"
            },
            "marker": {
             "line": {
              "color": "#E5ECF6",
              "width": 0.5
             },
             "pattern": {
              "fillmode": "overlay",
              "size": 10,
              "solidity": 0.2
             }
            },
            "type": "bar"
           }
          ],
          "barpolar": [
           {
            "marker": {
             "line": {
              "color": "#E5ECF6",
              "width": 0.5
             },
             "pattern": {
              "fillmode": "overlay",
              "size": 10,
              "solidity": 0.2
             }
            },
            "type": "barpolar"
           }
          ],
          "carpet": [
           {
            "aaxis": {
             "endlinecolor": "#2a3f5f",
             "gridcolor": "white",
             "linecolor": "white",
             "minorgridcolor": "white",
             "startlinecolor": "#2a3f5f"
            },
            "baxis": {
             "endlinecolor": "#2a3f5f",
             "gridcolor": "white",
             "linecolor": "white",
             "minorgridcolor": "white",
             "startlinecolor": "#2a3f5f"
            },
            "type": "carpet"
           }
          ],
          "choropleth": [
           {
            "colorbar": {
             "outlinewidth": 0,
             "ticks": ""
            },
            "type": "choropleth"
           }
          ],
          "contour": [
           {
            "colorbar": {
             "outlinewidth": 0,
             "ticks": ""
            },
            "colorscale": [
             [
              0,
              "#0d0887"
             ],
             [
              0.1111111111111111,
              "#46039f"
             ],
             [
              0.2222222222222222,
              "#7201a8"
             ],
             [
              0.3333333333333333,
              "#9c179e"
             ],
             [
              0.4444444444444444,
              "#bd3786"
             ],
             [
              0.5555555555555556,
              "#d8576b"
             ],
             [
              0.6666666666666666,
              "#ed7953"
             ],
             [
              0.7777777777777778,
              "#fb9f3a"
             ],
             [
              0.8888888888888888,
              "#fdca26"
             ],
             [
              1,
              "#f0f921"
             ]
            ],
            "type": "contour"
           }
          ],
          "contourcarpet": [
           {
            "colorbar": {
             "outlinewidth": 0,
             "ticks": ""
            },
            "type": "contourcarpet"
           }
          ],
          "heatmap": [
           {
            "colorbar": {
             "outlinewidth": 0,
             "ticks": ""
            },
            "colorscale": [
             [
              0,
              "#0d0887"
             ],
             [
              0.1111111111111111,
              "#46039f"
             ],
             [
              0.2222222222222222,
              "#7201a8"
             ],
             [
              0.3333333333333333,
              "#9c179e"
             ],
             [
              0.4444444444444444,
              "#bd3786"
             ],
             [
              0.5555555555555556,
              "#d8576b"
             ],
             [
              0.6666666666666666,
              "#ed7953"
             ],
             [
              0.7777777777777778,
              "#fb9f3a"
             ],
             [
              0.8888888888888888,
              "#fdca26"
             ],
             [
              1,
              "#f0f921"
             ]
            ],
            "type": "heatmap"
           }
          ],
          "heatmapgl": [
           {
            "colorbar": {
             "outlinewidth": 0,
             "ticks": ""
            },
            "colorscale": [
             [
              0,
              "#0d0887"
             ],
             [
              0.1111111111111111,
              "#46039f"
             ],
             [
              0.2222222222222222,
              "#7201a8"
             ],
             [
              0.3333333333333333,
              "#9c179e"
             ],
             [
              0.4444444444444444,
              "#bd3786"
             ],
             [
              0.5555555555555556,
              "#d8576b"
             ],
             [
              0.6666666666666666,
              "#ed7953"
             ],
             [
              0.7777777777777778,
              "#fb9f3a"
             ],
             [
              0.8888888888888888,
              "#fdca26"
             ],
             [
              1,
              "#f0f921"
             ]
            ],
            "type": "heatmapgl"
           }
          ],
          "histogram": [
           {
            "marker": {
             "pattern": {
              "fillmode": "overlay",
              "size": 10,
              "solidity": 0.2
             }
            },
            "type": "histogram"
           }
          ],
          "histogram2d": [
           {
            "colorbar": {
             "outlinewidth": 0,
             "ticks": ""
            },
            "colorscale": [
             [
              0,
              "#0d0887"
             ],
             [
              0.1111111111111111,
              "#46039f"
             ],
             [
              0.2222222222222222,
              "#7201a8"
             ],
             [
              0.3333333333333333,
              "#9c179e"
             ],
             [
              0.4444444444444444,
              "#bd3786"
             ],
             [
              0.5555555555555556,
              "#d8576b"
             ],
             [
              0.6666666666666666,
              "#ed7953"
             ],
             [
              0.7777777777777778,
              "#fb9f3a"
             ],
             [
              0.8888888888888888,
              "#fdca26"
             ],
             [
              1,
              "#f0f921"
             ]
            ],
            "type": "histogram2d"
           }
          ],
          "histogram2dcontour": [
           {
            "colorbar": {
             "outlinewidth": 0,
             "ticks": ""
            },
            "colorscale": [
             [
              0,
              "#0d0887"
             ],
             [
              0.1111111111111111,
              "#46039f"
             ],
             [
              0.2222222222222222,
              "#7201a8"
             ],
             [
              0.3333333333333333,
              "#9c179e"
             ],
             [
              0.4444444444444444,
              "#bd3786"
             ],
             [
              0.5555555555555556,
              "#d8576b"
             ],
             [
              0.6666666666666666,
              "#ed7953"
             ],
             [
              0.7777777777777778,
              "#fb9f3a"
             ],
             [
              0.8888888888888888,
              "#fdca26"
             ],
             [
              1,
              "#f0f921"
             ]
            ],
            "type": "histogram2dcontour"
           }
          ],
          "mesh3d": [
           {
            "colorbar": {
             "outlinewidth": 0,
             "ticks": ""
            },
            "type": "mesh3d"
           }
          ],
          "parcoords": [
           {
            "line": {
             "colorbar": {
              "outlinewidth": 0,
              "ticks": ""
             }
            },
            "type": "parcoords"
           }
          ],
          "pie": [
           {
            "automargin": true,
            "type": "pie"
           }
          ],
          "scatter": [
           {
            "fillpattern": {
             "fillmode": "overlay",
             "size": 10,
             "solidity": 0.2
            },
            "type": "scatter"
           }
          ],
          "scatter3d": [
           {
            "line": {
             "colorbar": {
              "outlinewidth": 0,
              "ticks": ""
             }
            },
            "marker": {
             "colorbar": {
              "outlinewidth": 0,
              "ticks": ""
             }
            },
            "type": "scatter3d"
           }
          ],
          "scattercarpet": [
           {
            "marker": {
             "colorbar": {
              "outlinewidth": 0,
              "ticks": ""
             }
            },
            "type": "scattercarpet"
           }
          ],
          "scattergeo": [
           {
            "marker": {
             "colorbar": {
              "outlinewidth": 0,
              "ticks": ""
             }
            },
            "type": "scattergeo"
           }
          ],
          "scattergl": [
           {
            "marker": {
             "colorbar": {
              "outlinewidth": 0,
              "ticks": ""
             }
            },
            "type": "scattergl"
           }
          ],
          "scattermapbox": [
           {
            "marker": {
             "colorbar": {
              "outlinewidth": 0,
              "ticks": ""
             }
            },
            "type": "scattermapbox"
           }
          ],
          "scatterpolar": [
           {
            "marker": {
             "colorbar": {
              "outlinewidth": 0,
              "ticks": ""
             }
            },
            "type": "scatterpolar"
           }
          ],
          "scatterpolargl": [
           {
            "marker": {
             "colorbar": {
              "outlinewidth": 0,
              "ticks": ""
             }
            },
            "type": "scatterpolargl"
           }
          ],
          "scatterternary": [
           {
            "marker": {
             "colorbar": {
              "outlinewidth": 0,
              "ticks": ""
             }
            },
            "type": "scatterternary"
           }
          ],
          "surface": [
           {
            "colorbar": {
             "outlinewidth": 0,
             "ticks": ""
            },
            "colorscale": [
             [
              0,
              "#0d0887"
             ],
             [
              0.1111111111111111,
              "#46039f"
             ],
             [
              0.2222222222222222,
              "#7201a8"
             ],
             [
              0.3333333333333333,
              "#9c179e"
             ],
             [
              0.4444444444444444,
              "#bd3786"
             ],
             [
              0.5555555555555556,
              "#d8576b"
             ],
             [
              0.6666666666666666,
              "#ed7953"
             ],
             [
              0.7777777777777778,
              "#fb9f3a"
             ],
             [
              0.8888888888888888,
              "#fdca26"
             ],
             [
              1,
              "#f0f921"
             ]
            ],
            "type": "surface"
           }
          ],
          "table": [
           {
            "cells": {
             "fill": {
              "color": "#EBF0F8"
             },
             "line": {
              "color": "white"
             }
            },
            "header": {
             "fill": {
              "color": "#C8D4E3"
             },
             "line": {
              "color": "white"
             }
            },
            "type": "table"
           }
          ]
         },
         "layout": {
          "annotationdefaults": {
           "arrowcolor": "#2a3f5f",
           "arrowhead": 0,
           "arrowwidth": 1
          },
          "autotypenumbers": "strict",
          "coloraxis": {
           "colorbar": {
            "outlinewidth": 0,
            "ticks": ""
           }
          },
          "colorscale": {
           "diverging": [
            [
             0,
             "#8e0152"
            ],
            [
             0.1,
             "#c51b7d"
            ],
            [
             0.2,
             "#de77ae"
            ],
            [
             0.3,
             "#f1b6da"
            ],
            [
             0.4,
             "#fde0ef"
            ],
            [
             0.5,
             "#f7f7f7"
            ],
            [
             0.6,
             "#e6f5d0"
            ],
            [
             0.7,
             "#b8e186"
            ],
            [
             0.8,
             "#7fbc41"
            ],
            [
             0.9,
             "#4d9221"
            ],
            [
             1,
             "#276419"
            ]
           ],
           "sequential": [
            [
             0,
             "#0d0887"
            ],
            [
             0.1111111111111111,
             "#46039f"
            ],
            [
             0.2222222222222222,
             "#7201a8"
            ],
            [
             0.3333333333333333,
             "#9c179e"
            ],
            [
             0.4444444444444444,
             "#bd3786"
            ],
            [
             0.5555555555555556,
             "#d8576b"
            ],
            [
             0.6666666666666666,
             "#ed7953"
            ],
            [
             0.7777777777777778,
             "#fb9f3a"
            ],
            [
             0.8888888888888888,
             "#fdca26"
            ],
            [
             1,
             "#f0f921"
            ]
           ],
           "sequentialminus": [
            [
             0,
             "#0d0887"
            ],
            [
             0.1111111111111111,
             "#46039f"
            ],
            [
             0.2222222222222222,
             "#7201a8"
            ],
            [
             0.3333333333333333,
             "#9c179e"
            ],
            [
             0.4444444444444444,
             "#bd3786"
            ],
            [
             0.5555555555555556,
             "#d8576b"
            ],
            [
             0.6666666666666666,
             "#ed7953"
            ],
            [
             0.7777777777777778,
             "#fb9f3a"
            ],
            [
             0.8888888888888888,
             "#fdca26"
            ],
            [
             1,
             "#f0f921"
            ]
           ]
          },
          "colorway": [
           "#636efa",
           "#EF553B",
           "#00cc96",
           "#ab63fa",
           "#FFA15A",
           "#19d3f3",
           "#FF6692",
           "#B6E880",
           "#FF97FF",
           "#FECB52"
          ],
          "font": {
           "color": "#2a3f5f"
          },
          "geo": {
           "bgcolor": "white",
           "lakecolor": "white",
           "landcolor": "#E5ECF6",
           "showlakes": true,
           "showland": true,
           "subunitcolor": "white"
          },
          "hoverlabel": {
           "align": "left"
          },
          "hovermode": "closest",
          "mapbox": {
           "style": "light"
          },
          "paper_bgcolor": "white",
          "plot_bgcolor": "#E5ECF6",
          "polar": {
           "angularaxis": {
            "gridcolor": "white",
            "linecolor": "white",
            "ticks": ""
           },
           "bgcolor": "#E5ECF6",
           "radialaxis": {
            "gridcolor": "white",
            "linecolor": "white",
            "ticks": ""
           }
          },
          "scene": {
           "xaxis": {
            "backgroundcolor": "#E5ECF6",
            "gridcolor": "white",
            "gridwidth": 2,
            "linecolor": "white",
            "showbackground": true,
            "ticks": "",
            "zerolinecolor": "white"
           },
           "yaxis": {
            "backgroundcolor": "#E5ECF6",
            "gridcolor": "white",
            "gridwidth": 2,
            "linecolor": "white",
            "showbackground": true,
            "ticks": "",
            "zerolinecolor": "white"
           },
           "zaxis": {
            "backgroundcolor": "#E5ECF6",
            "gridcolor": "white",
            "gridwidth": 2,
            "linecolor": "white",
            "showbackground": true,
            "ticks": "",
            "zerolinecolor": "white"
           }
          },
          "shapedefaults": {
           "line": {
            "color": "#2a3f5f"
           }
          },
          "ternary": {
           "aaxis": {
            "gridcolor": "white",
            "linecolor": "white",
            "ticks": ""
           },
           "baxis": {
            "gridcolor": "white",
            "linecolor": "white",
            "ticks": ""
           },
           "bgcolor": "#E5ECF6",
           "caxis": {
            "gridcolor": "white",
            "linecolor": "white",
            "ticks": ""
           }
          },
          "title": {
           "x": 0.05
          },
          "xaxis": {
           "automargin": true,
           "gridcolor": "white",
           "linecolor": "white",
           "ticks": "",
           "title": {
            "standoff": 15
           },
           "zerolinecolor": "white",
           "zerolinewidth": 2
          },
          "yaxis": {
           "automargin": true,
           "gridcolor": "white",
           "linecolor": "white",
           "ticks": "",
           "title": {
            "standoff": 15
           },
           "zerolinecolor": "white",
           "zerolinewidth": 2
          }
         }
        },
        "title": {
         "text": "Gold Price Forecast"
        },
        "xaxis": {
         "autorange": true,
         "range": [
          "2024-07-19 01:00",
          "2024-07-22 19:10:23.7568"
         ],
         "title": {
          "text": "Date"
         },
         "type": "date"
        },
        "yaxis": {
         "autorange": true,
         "range": [
          2385.477878146701,
          2427.922268337674
         ],
         "title": {
          "text": "Price (USD)"
         },
         "type": "linear"
        }
       }
      },
      "image/png": "[encoded data removed]",
      "text/html": [
       "<div>                            <div id=\"0ec95708-d72b-47a7-8df8-492c5d8835a0\" class=\"plotly-graph-div\" style=\"height:525px; width:100%;\"></div>            <script type=\"text/javascript\">                require([\"plotly\"], function(Plotly) {                    window.PLOTLYENV=window.PLOTLYENV || {};                                    if (document.getElementById(\"0ec95708-d72b-47a7-8df8-492c5d8835a0\")) {                    Plotly.newPlot(                        \"0ec95708-d72b-47a7-8df8-492c5d8835a0\",                        [{\"mode\":\"lines\",\"name\":\"Historical Prices\",\"x\":[\"2024-07-19T01:00:00-04:00\",\"2024-07-19T02:00:00-04:00\",\"2024-07-19T03:00:00-04:00\",\"2024-07-19T04:00:00-04:00\",\"2024-07-19T05:00:00-04:00\",\"2024-07-19T06:00:00-04:00\",\"2024-07-19T07:00:00-04:00\",\"2024-07-19T08:00:00-04:00\",\"2024-07-19T09:00:00-04:00\",\"2024-07-19T10:00:00-04:00\",\"2024-07-19T11:00:00-04:00\",\"2024-07-19T12:00:00-04:00\",\"2024-07-19T13:00:00-04:00\",\"2024-07-19T14:00:00-04:00\",\"2024-07-19T15:00:00-04:00\",\"2024-07-19T16:00:00-04:00\",\"2024-07-19T17:00:00-04:00\",\"2024-07-19T18:00:00-04:00\",\"2024-07-19T19:00:00-04:00\",\"2024-07-19T20:00:00-04:00\",\"2024-07-19T21:00:00-04:00\",\"2024-07-19T22:00:00-04:00\",\"2024-07-19T23:00:00-04:00\",\"2024-07-20T00:00:00-04:00\",\"2024-07-20T01:00:00-04:00\",\"2024-07-20T02:00:00-04:00\",\"2024-07-20T03:00:00-04:00\",\"2024-07-20T04:00:00-04:00\",\"2024-07-20T05:00:00-04:00\",\"2024-07-20T06:00:00-04:00\",\"2024-07-20T07:00:00-04:00\",\"2024-07-20T08:00:00-04:00\",\"2024-07-20T09:00:00-04:00\",\"2024-07-20T10:00:00-04:00\",\"2024-07-20T11:00:00-04:00\",\"2024-07-20T12:00:00-04:00\",\"2024-07-20T13:00:00-04:00\",\"2024-07-20T14:00:00-04:00\",\"2024-07-20T15:00:00-04:00\",\"2024-07-20T16:00:00-04:00\",\"2024-07-20T17:00:00-04:00\",\"2024-07-20T18:00:00-04:00\",\"2024-07-20T19:00:00-04:00\",\"2024-07-20T20:00:00-04:00\",\"2024-07-20T21:00:00-04:00\",\"2024-07-20T22:00:00-04:00\",\"2024-07-20T23:00:00-04:00\",\"2024-07-21T00:00:00-04:00\",\"2024-07-21T01:00:00-04:00\",\"2024-07-21T02:00:00-04:00\",\"2024-07-21T03:00:00-04:00\",\"2024-07-21T04:00:00-04:00\",\"2024-07-21T05:00:00-04:00\",\"2024-07-21T06:00:00-04:00\",\"2024-07-21T07:00:00-04:00\",\"2024-07-21T08:00:00-04:00\",\"2024-07-21T09:00:00-04:00\",\"2024-07-21T10:00:00-04:00\",\"2024-07-21T11:00:00-04:00\",\"2024-07-21T12:00:00-04:00\",\"2024-07-21T13:00:00-04:00\",\"2024-07-21T14:00:00-04:00\",\"2024-07-21T15:00:00-04:00\",\"2024-07-21T16:00:00-04:00\",\"2024-07-21T17:00:00-04:00\",\"2024-07-21T18:00:00-04:00\",\"2024-07-21T19:00:00-04:00\",\"2024-07-21T20:00:00-04:00\",\"2024-07-21T21:00:00-04:00\",\"2024-07-21T22:00:00-04:00\",\"2024-07-21T23:00:00-04:00\",\"2024-07-22T00:00:00-04:00\",\"2024-07-22T01:00:00-04:00\",\"2024-07-22T02:00:00-04:00\",\"2024-07-22T03:00:00-04:00\",\"2024-07-22T04:00:00-04:00\",\"2024-07-22T05:00:00-04:00\",\"2024-07-22T06:00:00-04:00\",\"2024-07-22T07:00:00-04:00\",\"2024-07-22T08:00:00-04:00\",\"2024-07-22T09:00:00-04:00\",\"2024-07-22T10:00:00-04:00\",\"2024-07-22T11:00:00-04:00\",\"2024-07-22T12:00:00-04:00\",\"2024-07-22T13:00:00-04:00\"],\"y\":[2425.800048828125,2422.300048828125,2420.39990234375,2422.60009765625,2418.199951171875,2414.60009765625,2412.10009765625,2405.800048828125,2405.800048828125,2399.89990234375,2407.300048828125,2401.5,2400.800048828125,2400.300048828125,2400.699951171875,2402.800048828125,2402.800048828125,2402.800048828125,2402.800048828125,2402.800048828125,2402.800048828125,2402.800048828125,2402.800048828125,2402.800048828125,2402.800048828125,2402.800048828125,2402.800048828125,2402.800048828125,2402.800048828125,2402.800048828125,2402.800048828125,2402.800048828125,2402.800048828125,2402.800048828125,2402.800048828125,2402.800048828125,2402.800048828125,2402.800048828125,2402.800048828125,2402.800048828125,2402.800048828125,2402.800048828125,2402.800048828125,2402.800048828125,2402.800048828125,2402.800048828125,2402.800048828125,2402.800048828125,2402.800048828125,2402.800048828125,2402.800048828125,2402.800048828125,2402.800048828125,2402.800048828125,2402.800048828125,2402.800048828125,2402.800048828125,2402.800048828125,2402.800048828125,2402.800048828125,2402.800048828125,2402.800048828125,2402.800048828125,2402.800048828125,2402.800048828125,2412.800048828125,2413.300048828125,2409.800048828125,2408.5,2408.39990234375,2408.60009765625,2407.199951171875,2404.5,2403.89990234375,2404.0,2402.39990234375,2406.10009765625,2408.39990234375,2399.60009765625,2395.800048828125,2394.10009765625,2388.60009765625,2387.60009765625,2394.300048828125,2395.0],\"type\":\"scatter\"},{\"marker\":{\"color\":\"red\",\"size\":10},\"mode\":\"markers\",\"name\":\"Forecasted Price\",\"x\":[\"2024-07-22T14:00:00-04:00\"],\"y\":[2395.0],\"type\":\"scatter\"},{\"marker\":{\"color\":\"green\",\"line\":{\"color\":\"black\",\"width\":2},\"size\":10},\"mode\":\"markers\",\"name\":\"Latest Price\",\"x\":[\"2024-07-22T13:00:00-04:00\"],\"y\":[2395.0],\"type\":\"scatter\"}],                        {\"template\":{\"data\":{\"histogram2dcontour\":[{\"type\":\"histogram2dcontour\",\"colorbar\":{\"outlinewidth\":0,\"ticks\":\"\"},\"colorscale\":[[0.0,\"#0d0887\"],[0.1111111111111111,\"#46039f\"],[0.2222222222222222,\"#7201a8\"],[0.3333333333333333,\"#9c179e\"],[0.4444444444444444,\"#bd3786\"],[0.5555555555555556,\"#d8576b\"],[0.6666666666666666,\"#ed7953\"],[0.7777777777777778,\"#fb9f3a\"],[0.8888888888888888,\"#fdca26\"],[1.0,\"#f0f921\"]]}],\"choropleth\":[{\"type\":\"choropleth\",\"colorbar\":{\"outlinewidth\":0,\"ticks\":\"\"}}],\"histogram2d\":[{\"type\":\"histogram2d\",\"colorbar\":{\"outlinewidth\":0,\"ticks\":\"\"},\"colorscale\":[[0.0,\"#0d0887\"],[0.1111111111111111,\"#46039f\"],[0.2222222222222222,\"#7201a8\"],[0.3333333333333333,\"#9c179e\"],[0.4444444444444444,\"#bd3786\"],[0.5555555555555556,\"#d8576b\"],[0.6666666666666666,\"#ed7953\"],[0.7777777777777778,\"#fb9f3a\"],[0.8888888888888888,\"#fdca26\"],[1.0,\"#f0f921\"]]}],\"heatmap\":[{\"type\":\"heatmap\",\"colorbar\":{\"outlinewidth\":0,\"ticks\":\"\"},\"colorscale\":[[0.0,\"#0d0887\"],[0.1111111111111111,\"#46039f\"],[0.2222222222222222,\"#7201a8\"],[0.3333333333333333,\"#9c179e\"],[0.4444444444444444,\"#bd3786\"],[0.5555555555555556,\"#d8576b\"],[0.6666666666666666,\"#ed7953\"],[0.7777777777777778,\"#fb9f3a\"],[0.8888888888888888,\"#fdca26\"],[1.0,\"#f0f921\"]]}],\"heatmapgl\":[{\"type\":\"heatmapgl\",\"colorbar\":{\"outlinewidth\":0,\"ticks\":\"\"},\"colorscale\":[[0.0,\"#0d0887\"],[0.1111111111111111,\"#46039f\"],[0.2222222222222222,\"#7201a8\"],[0.3333333333333333,\"#9c179e\"],[0.4444444444444444,\"#bd3786\"],[0.5555555555555556,\"#d8576b\"],[0.6666666666666666,\"#ed7953\"],[0.7777777777777778,\"#fb9f3a\"],[0.8888888888888888,\"#fdca26\"],[1.0,\"#f0f921\"]]}],\"contourcarpet\":[{\"type\":\"contourcarpet\",\"colorbar\":{\"outlinewidth\":0,\"ticks\":\"\"}}],\"contour\":[{\"type\":\"contour\",\"colorbar\":{\"outlinewidth\":0,\"ticks\":\"\"},\"colorscale\":[[0.0,\"#0d0887\"],[0.1111111111111111,\"#46039f\"],[0.2222222222222222,\"#7201a8\"],[0.3333333333333333,\"#9c179e\"],[0.4444444444444444,\"#bd3786\"],[0.5555555555555556,\"#d8576b\"],[0.6666666666666666,\"#ed7953\"],[0.7777777777777778,\"#fb9f3a\"],[0.8888888888888888,\"#fdca26\"],[1.0,\"#f0f921\"]]}],\"surface\":[{\"type\":\"surface\",\"colorbar\":{\"outlinewidth\":0,\"ticks\":\"\"},\"colorscale\":[[0.0,\"#0d0887\"],[0.1111111111111111,\"#46039f\"],[0.2222222222222222,\"#7201a8\"],[0.3333333333333333,\"#9c179e\"],[0.4444444444444444,\"#bd3786\"],[0.5555555555555556,\"#d8576b\"],[0.6666666666666666,\"#ed7953\"],[0.7777777777777778,\"#fb9f3a\"],[0.8888888888888888,\"#fdca26\"],[1.0,\"#f0f921\"]]}],\"mesh3d\":[{\"type\":\"mesh3d\",\"colorbar\":{\"outlinewidth\":0,\"ticks\":\"\"}}],\"scatter\":[{\"fillpattern\":{\"fillmode\":\"overlay\",\"size\":10,\"solidity\":0.2},\"type\":\"scatter\"}],\"parcoords\":[{\"type\":\"parcoords\",\"line\":{\"colorbar\":{\"outlinewidth\":0,\"ticks\":\"\"}}}],\"scatterpolargl\":[{\"type\":\"scatterpolargl\",\"marker\":{\"colorbar\":{\"outlinewidth\":0,\"ticks\":\"\"}}}],\"bar\":[{\"error_x\":{\"color\":\"#2a3f5f\"},\"error_y\":{\"color\":\"#2a3f5f\"},\"marker\":{\"line\":{\"color\":\"#E5ECF6\",\"width\":0.5},\"pattern\":{\"fillmode\":\"overlay\",\"size\":10,\"solidity\":0.2}},\"type\":\"bar\"}],\"scattergeo\":[{\"type\":\"scattergeo\",\"marker\":{\"colorbar\":{\"outlinewidth\":0,\"ticks\":\"\"}}}],\"scatterpolar\":[{\"type\":\"scatterpolar\",\"marker\":{\"colorbar\":{\"outlinewidth\":0,\"ticks\":\"\"}}}],\"histogram\":[{\"marker\":{\"pattern\":{\"fillmode\":\"overlay\",\"size\":10,\"solidity\":0.2}},\"type\":\"histogram\"}],\"scattergl\":[{\"type\":\"scattergl\",\"marker\":{\"colorbar\":{\"outlinewidth\":0,\"ticks\":\"\"}}}],\"scatter3d\":[{\"type\":\"scatter3d\",\"line\":{\"colorbar\":{\"outlinewidth\":0,\"ticks\":\"\"}},\"marker\":{\"colorbar\":{\"outlinewidth\":0,\"ticks\":\"\"}}}],\"scattermapbox\":[{\"type\":\"scattermapbox\",\"marker\":{\"colorbar\":{\"outlinewidth\":0,\"ticks\":\"\"}}}],\"scatterternary\":[{\"type\":\"scatterternary\",\"marker\":{\"colorbar\":{\"outlinewidth\":0,\"ticks\":\"\"}}}],\"scattercarpet\":[{\"type\":\"scattercarpet\",\"marker\":{\"colorbar\":{\"outlinewidth\":0,\"ticks\":\"\"}}}],\"carpet\":[{\"aaxis\":{\"endlinecolor\":\"#2a3f5f\",\"gridcolor\":\"white\",\"linecolor\":\"white\",\"minorgridcolor\":\"white\",\"startlinecolor\":\"#2a3f5f\"},\"baxis\":{\"endlinecolor\":\"#2a3f5f\",\"gridcolor\":\"white\",\"linecolor\":\"white\",\"minorgridcolor\":\"white\",\"startlinecolor\":\"#2a3f5f\"},\"type\":\"carpet\"}],\"table\":[{\"cells\":{\"fill\":{\"color\":\"#EBF0F8\"},\"line\":{\"color\":\"white\"}},\"header\":{\"fill\":{\"color\":\"#C8D4E3\"},\"line\":{\"color\":\"white\"}},\"type\":\"table\"}],\"barpolar\":[{\"marker\":{\"line\":{\"color\":\"#E5ECF6\",\"width\":0.5},\"pattern\":{\"fillmode\":\"overlay\",\"size\":10,\"solidity\":0.2}},\"type\":\"barpolar\"}],\"pie\":[{\"automargin\":true,\"type\":\"pie\"}]},\"layout\":{\"autotypenumbers\":\"strict\",\"colorway\":[\"#636efa\",\"#EF553B\",\"#00cc96\",\"#ab63fa\",\"#FFA15A\",\"#19d3f3\",\"#FF6692\",\"#B6E880\",\"#FF97FF\",\"#FECB52\"],\"font\":{\"color\":\"#2a3f5f\"},\"hovermode\":\"closest\",\"hoverlabel\":{\"align\":\"left\"},\"paper_bgcolor\":\"white\",\"plot_bgcolor\":\"#E5ECF6\",\"polar\":{\"bgcolor\":\"#E5ECF6\",\"angularaxis\":{\"gridcolor\":\"white\",\"linecolor\":\"white\",\"ticks\":\"\"},\"radialaxis\":{\"gridcolor\":\"white\",\"linecolor\":\"white\",\"ticks\":\"\"}},\"ternary\":{\"bgcolor\":\"#E5ECF6\",\"aaxis\":{\"gridcolor\":\"white\",\"linecolor\":\"white\",\"ticks\":\"\"},\"baxis\":{\"gridcolor\":\"white\",\"linecolor\":\"white\",\"ticks\":\"\"},\"caxis\":{\"gridcolor\":\"white\",\"linecolor\":\"white\",\"ticks\":\"\"}},\"coloraxis\":{\"colorbar\":{\"outlinewidth\":0,\"ticks\":\"\"}},\"colorscale\":{\"sequential\":[[0.0,\"#0d0887\"],[0.1111111111111111,\"#46039f\"],[0.2222222222222222,\"#7201a8\"],[0.3333333333333333,\"#9c179e\"],[0.4444444444444444,\"#bd3786\"],[0.5555555555555556,\"#d8576b\"],[0.6666666666666666,\"#ed7953\"],[0.7777777777777778,\"#fb9f3a\"],[0.8888888888888888,\"#fdca26\"],[1.0,\"#f0f921\"]],\"sequentialminus\":[[0.0,\"#0d0887\"],[0.1111111111111111,\"#46039f\"],[0.2222222222222222,\"#7201a8\"],[0.3333333333333333,\"#9c179e\"],[0.4444444444444444,\"#bd3786\"],[0.5555555555555556,\"#d8576b\"],[0.6666666666666666,\"#ed7953\"],[0.7777777777777778,\"#fb9f3a\"],[0.8888888888888888,\"#fdca26\"],[1.0,\"#f0f921\"]],\"diverging\":[[0,\"#8e0152\"],[0.1,\"#c51b7d\"],[0.2,\"#de77ae\"],[0.3,\"#f1b6da\"],[0.4,\"#fde0ef\"],[0.5,\"#f7f7f7\"],[0.6,\"#e6f5d0\"],[0.7,\"#b8e186\"],[0.8,\"#7fbc41\"],[0.9,\"#4d9221\"],[1,\"#276419\"]]},\"xaxis\":{\"gridcolor\":\"white\",\"linecolor\":\"white\",\"ticks\":\"\",\"title\":{\"standoff\":15},\"zerolinecolor\":\"white\",\"automargin\":true,\"zerolinewidth\":2},\"yaxis\":{\"gridcolor\":\"white\",\"linecolor\":\"white\",\"ticks\":\"\",\"title\":{\"standoff\":15},\"zerolinecolor\":\"white\",\"automargin\":true,\"zerolinewidth\":2},\"scene\":{\"xaxis\":{\"backgroundcolor\":\"#E5ECF6\",\"gridcolor\":\"white\",\"linecolor\":\"white\",\"showbackground\":true,\"ticks\":\"\",\"zerolinecolor\":\"white\",\"gridwidth\":2},\"yaxis\":{\"backgroundcolor\":\"#E5ECF6\",\"gridcolor\":\"white\",\"linecolor\":\"white\",\"showbackground\":true,\"ticks\":\"\",\"zerolinecolor\":\"white\",\"gridwidth\":2},\"zaxis\":{\"backgroundcolor\":\"#E5ECF6\",\"gridcolor\":\"white\",\"linecolor\":\"white\",\"showbackground\":true,\"ticks\":\"\",\"zerolinecolor\":\"white\",\"gridwidth\":2}},\"shapedefaults\":{\"line\":{\"color\":\"#2a3f5f\"}},\"annotationdefaults\":{\"arrowcolor\":\"#2a3f5f\",\"arrowhead\":0,\"arrowwidth\":1},\"geo\":{\"bgcolor\":\"white\",\"landcolor\":\"#E5ECF6\",\"subunitcolor\":\"white\",\"showland\":true,\"showlakes\":true,\"lakecolor\":\"white\"},\"title\":{\"x\":0.05},\"mapbox\":{\"style\":\"light\"}}},\"title\":{\"text\":\"Gold Price Forecast\"},\"xaxis\":{\"title\":{\"text\":\"Date\"}},\"yaxis\":{\"title\":{\"text\":\"Price (USD)\"}}},                        {\"responsive\": true}                    ).then(function(){\n",
       "                            \n",
       "var gd = document.getElementById('0ec95708-d72b-47a7-8df8-492c5d8835a0');\n",
       "var x = new MutationObserver(function (mutations, observer) {{\n",
       "        var display = window.getComputedStyle(gd).display;\n",
       "        if (!display || display === 'none') {{\n",
       "            console.log([gd, 'removed!']);\n",
       "            Plotly.purge(gd);\n",
       "            observer.disconnect();\n",
       "        }}\n",
       "}});\n",
       "\n",
       "// Listen for the removal of the full notebook cells\n",
       "var notebookContainer = gd.closest('#notebook-container');\n",
       "if (notebookContainer) {{\n",
       "    x.observe(notebookContainer, {childList: true});\n",
       "}}\n",
       "\n",
       "// Listen for the clearing of the current output cell\n",
       "var outputEl = gd.closest('.output');\n",
       "if (outputEl) {{\n",
       "    x.observe(outputEl, {childList: true});\n",
       "}}\n",
       "\n",
       "                        })                };                });            </script>        </div>"
      ]
     },
     "metadata": {},
     "output_type": "display_data"
    }
   ],
   "source": [
    "import yfinance as yf\n",
    "import pandas as pd\n",
    "import plotly.graph_objs as go\n",
    "import ipywidgets as widgets\n",
    "from IPython.display import display, clear_output\n",
    "\n",
    "# Define options for period and interval\n",
    "period_options = ['1d', '5d', '1mo', '3mo', '6mo', '1y', '2y', '5y', '10y', 'ytd', 'max']\n",
    "interval_options = ['1m', '5m', '15m', '30m', '60m', '90m', '1h', '1d', '5d', '1wk', '1mo', '3mo']\n",
    "\n",
    "# Create dropdown widgets\n",
    "period_widget = widgets.Dropdown(\n",
    "    options=period_options,\n",
    "    value='5d',\n",
    "    description='Period:',\n",
    ")\n",
    "\n",
    "interval_widget = widgets.Dropdown(\n",
    "    options=interval_options,\n",
    "    value='1h',\n",
    "    description='Interval:',\n",
    ")\n",
    "\n",
    "# Create a refresh button\n",
    "refresh_button = widgets.Button(\n",
    "    description='Refresh Plot'\n",
    ")\n",
    "\n",
    "# Display widgets\n",
    "display(period_widget, interval_widget, refresh_button)\n",
    "\n",
    "def fetch_data(period, interval):\n",
    "    gold = yf.Ticker(\"GC=F\")\n",
    "    data = gold.history(period=period, interval=interval)\n",
    "    data = data.sort_index()\n",
    "    if interval != '1d':\n",
    "        data = data.resample('h').ffill()\n",
    "    data['Return'] = data['Close'].pct_change()\n",
    "    data['MA_10'] = data['Close'].rolling(window=10).mean()\n",
    "    data['MA_50'] = data['Close'].rolling(window=50).mean()\n",
    "    data = data.dropna()\n",
    "    return data\n",
    "\n",
    "def update_plot(period, interval):\n",
    "    data = fetch_data(period, interval)\n",
    "    fig = go.Figure()\n",
    "    \n",
    "    # Add historical data\n",
    "    fig.add_trace(go.Scatter(x=data.index, y=data['Close'], mode='lines', name='Historical Prices'))\n",
    "    \n",
    "    # Add forecast point (using latest data as placeholder)\n",
    "    forecast_time = data.index[-1] + pd.DateOffset(hours=1)\n",
    "    fig.add_trace(go.Scatter(x=[forecast_time], y=[data['Close'].iloc[-1]], mode='markers', name='Forecasted Price', marker=dict(color='red', size=10)))\n",
    "    \n",
    "    # Highlight the latest price\n",
    "    fig.add_trace(go.Scatter(x=[data.index[-1]], y=[data['Close'].iloc[-1]], mode='markers', name='Latest Price', marker=dict(color='green', size=10, line=dict(color='black', width=2))))\n",
    "    \n",
    "    fig.update_layout(title='Gold Price Forecast', xaxis_title='Date', yaxis_title='Price (USD)')\n",
    "    \n",
    "    return fig\n",
    "\n",
    "# Initial call to plot\n",
    "fig = update_plot(period_widget.value, interval_widget.value)\n",
    "fig.show()\n",
    "\n",
    "# Function to update plot when widgets change\n",
    "def on_change(change):\n",
    "    global fig\n",
    "    fig = update_plot(period_widget.value, interval_widget.value)\n",
    "    clear_output(wait=True)\n",
    "    display(period_widget, interval_widget, refresh_button)\n",
    "    fig.show()\n",
    "\n",
    "# Attach observers to widgets\n",
    "period_widget.observe(on_change, names='value')\n",
    "interval_widget.observe(on_change, names='value')\n",
    "\n",
    "# Attach observer to refresh button\n",
    "def on_refresh_click(b):\n",
    "    on_change(None)\n",
    "\n",
    "refresh_button.on_click(on_refresh_click)\n"
   ]
  },
  {
   "cell_type": "code",
   "execution_count": 10,
   "id": "62796759-8310-4790-a493-1e990fa0899a",
   "metadata": {},
   "outputs": [
    {
     "ename": "NameError",
     "evalue": "name 'period' is not defined",
     "output_type": "error",
     "traceback": [
      "\u001b[1;31m---------------------------------------------------------------------------\u001b[0m",
      "\u001b[1;31mNameError\u001b[0m                                 Traceback (most recent call last)",
      "Cell \u001b[1;32mIn[10], line 4\u001b[0m\n\u001b[0;32m      1\u001b[0m \u001b[38;5;28;01mimport\u001b[39;00m \u001b[38;5;21;01mtime\u001b[39;00m\n\u001b[0;32m      3\u001b[0m start_time \u001b[38;5;241m=\u001b[39m time\u001b[38;5;241m.\u001b[39mtime()\n\u001b[1;32m----> 4\u001b[0m data \u001b[38;5;241m=\u001b[39m fetch_data(period, interval)\n\u001b[0;32m      5\u001b[0m \u001b[38;5;28mprint\u001b[39m(\u001b[38;5;124mf\u001b[39m\u001b[38;5;124m\"\u001b[39m\u001b[38;5;124mData fetching time: \u001b[39m\u001b[38;5;132;01m{\u001b[39;00mtime\u001b[38;5;241m.\u001b[39mtime()\u001b[38;5;250m \u001b[39m\u001b[38;5;241m-\u001b[39m\u001b[38;5;250m \u001b[39mstart_time\u001b[38;5;132;01m:\u001b[39;00m\u001b[38;5;124m.2f\u001b[39m\u001b[38;5;132;01m}\u001b[39;00m\u001b[38;5;124m seconds\u001b[39m\u001b[38;5;124m\"\u001b[39m)\n\u001b[0;32m      7\u001b[0m start_time \u001b[38;5;241m=\u001b[39m time\u001b[38;5;241m.\u001b[39mtime()\n",
      "\u001b[1;31mNameError\u001b[0m: name 'period' is not defined"
     ]
    }
   ],
   "source": [
    "import time\n",
    "\n",
    "start_time = time.time()\n",
    "data = fetch_data(period, interval)\n",
    "print(f\"Data fetching time: {time.time() - start_time:.2f} seconds\")\n",
    "\n",
    "start_time = time.time()\n",
    "fig = update_plot(period, interval)\n",
    "print(f\"Plot updating time: {time.time() - start_time:.2f} seconds\")\n"
   ]
  },
  {
   "cell_type": "code",
   "execution_count": null,
   "id": "62f3d388-162d-4a2e-afa8-3e23c09abf0f",
   "metadata": {},
   "outputs": [],
   "source": []
  }
 ],
 "metadata": {
  "kernelspec": {
   "display_name": "Python 3 (ipykernel)",
   "language": "python",
   "name": "python3"
  },
  "language_info": {
   "codemirror_mode": {
    "name": "ipython",
    "version": 3
   },
   "file_extension": ".py",
   "mimetype": "text/x-python",
   "name": "python",
   "nbconvert_exporter": "python",
   "pygments_lexer": "ipython3",
   "version": "3.12.4"
  }
 },
 "nbformat": 4,
 "nbformat_minor": 5
}
