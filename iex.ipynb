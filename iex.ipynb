{
 "cells": [
  {
   "cell_type": "code",
   "execution_count": 23,
   "id": "f91e923d-9705-49aa-8f7c-fafdde4dff4d",
   "metadata": {},
   "outputs": [
    {
     "name": "stdout",
     "output_type": "stream",
     "text": [
      "              Timestamp  1. open  2. high   3. low 4. close 5. volume\n",
      "0   2024-07-19 19:57:00  18.4200  18.4200  18.4200  18.4200        25\n",
      "1   2024-07-19 19:55:00  18.4200  18.4200  18.4200  18.4200         5\n",
      "2   2024-07-19 19:52:00  18.4200  18.4300  18.4200  18.4200        71\n",
      "3   2024-07-19 19:51:00  18.4200  18.4200  18.4200  18.4200       100\n",
      "4   2024-07-19 19:48:00  18.4300  18.4300  18.4300  18.4300         2\n",
      "..                  ...      ...      ...      ...      ...       ...\n",
      "95  2024-07-19 15:34:00  18.4600  18.4660  18.4550  18.4600    122381\n",
      "96  2024-07-19 15:33:00  18.4500  18.4650  18.4450  18.4600    112331\n",
      "97  2024-07-19 15:32:00  18.4500  18.4500  18.4420  18.4420     53530\n",
      "98  2024-07-19 15:31:00  18.4350  18.4500  18.4350  18.4490     47933\n",
      "99  2024-07-19 15:30:00  18.4400  18.4500  18.4350  18.4350     71087\n",
      "\n",
      "[100 rows x 6 columns]\n"
     ]
    }
   ],
   "source": [
    "import requests\n",
    "import pandas as pd\n",
    "\n",
    "# Your Alpha Vantage API key\n",
    "api_key = 'PTVM4GJ2PJLDLEGS'\n",
    "\n",
    "# URL for gold data (replace 'symbol' with actual symbol if different)\n",
    "url = f'https://www.alphavantage.co/query?function=TIME_SERIES_INTRADAY&symbol=GOLD&interval=1min&apikey={api_key}'\n",
    "\n",
    "# Make the request\n",
    "response = requests.get(url)\n",
    "\n",
    "# Check status code and process the data\n",
    "if response.status_code == 200:\n",
    "    try:\n",
    "        # Load JSON data\n",
    "        data = response.json()\n",
    "\n",
    "        # Extract time series data (assuming 'Time Series (1min)' key is present)\n",
    "        time_series = data.get('Time Series (1min)', {})\n",
    "\n",
    "        # Convert to DataFrame if there is time series data\n",
    "        if time_series:\n",
    "            df = pd.DataFrame.from_dict(time_series, orient='index')\n",
    "            df.index.name = 'Timestamp'\n",
    "            df = df.reset_index()\n",
    "            print(df)\n",
    "        else:\n",
    "            print(\"No time series data available.\")\n",
    "    \n",
    "    except ValueError:\n",
    "        print(\"Error: Response is not valid JSON.\")\n",
    "else:\n",
    "    print(f\"Error: Unable to fetch data. Status Code: {response.status_code}\")\n"
   ]
  },
  {
   "cell_type": "code",
   "execution_count": null,
   "id": "d5824392-de72-4d55-a676-ffb8407ea655",
   "metadata": {},
   "outputs": [],
   "source": []
  }
 ],
 "metadata": {
  "kernelspec": {
   "display_name": "Python 3 (ipykernel)",
   "language": "python",
   "name": "python3"
  },
  "language_info": {
   "codemirror_mode": {
    "name": "ipython",
    "version": 3
   },
   "file_extension": ".py",
   "mimetype": "text/x-python",
   "name": "python",
   "nbconvert_exporter": "python",
   "pygments_lexer": "ipython3",
   "version": "3.12.4"
  }
 },
 "nbformat": 4,
 "nbformat_minor": 5
}
